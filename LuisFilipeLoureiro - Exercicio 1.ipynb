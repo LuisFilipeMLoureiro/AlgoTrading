{
 "cells": [
  {
   "cell_type": "markdown",
   "metadata": {},
   "source": [
    "# Algotrading\n",
    "\n",
    "## Luís Filipe Martins Loureiro\n",
    "\n",
    "#### Março, 2023\n",
    "#### Exercício 1"
   ]
  },
  {
   "cell_type": "code",
   "execution_count": 1,
   "metadata": {},
   "outputs": [],
   "source": [
    "# Importando as bibliotecas\n",
    "\n",
    "%matplotlib inline\n",
    "\n",
    "import numpy as np\n",
    "import pandas as pd\n",
    "import matplotlib.pyplot as plt\n",
    "import time\n",
    "import datetime\n",
    "from scipy import stats\n",
    "import yahoofinancials as yf\n",
    "from IPython import display"
   ]
  },
  {
   "cell_type": "markdown",
   "metadata": {},
   "source": [
    "A empresa escolhida foi o Méliuz, considerada a primeira startup a ser listada na B3. A expectativa é de uma ação bastante descontada, dado a conjuntura de SELIC alta, algo que impacta mais empresas cuja maior parte do valor está na perpetuidade."
   ]
  },
  {
   "cell_type": "code",
   "execution_count": 2,
   "metadata": {},
   "outputs": [],
   "source": [
    "\n",
    "ticker = 'CASH3.SA'\n",
    "\n",
    "start_date = '2022-08-23'\n",
    "end_date =  '2023-02-23'\n",
    "\n",
    "data = yf.YahooFinancials(ticker).get_historical_price_data(start_date, end_date, 'daily')"
   ]
  },
  {
   "cell_type": "code",
   "execution_count": 13,
   "metadata": {},
   "outputs": [
    {
     "data": {
      "text/html": [
       "<div>\n",
       "<style scoped>\n",
       "    .dataframe tbody tr th:only-of-type {\n",
       "        vertical-align: middle;\n",
       "    }\n",
       "\n",
       "    .dataframe tbody tr th {\n",
       "        vertical-align: top;\n",
       "    }\n",
       "\n",
       "    .dataframe thead th {\n",
       "        text-align: right;\n",
       "    }\n",
       "</style>\n",
       "<table border=\"1\" class=\"dataframe\">\n",
       "  <thead>\n",
       "    <tr style=\"text-align: right;\">\n",
       "      <th></th>\n",
       "      <th>high</th>\n",
       "      <th>low</th>\n",
       "      <th>open</th>\n",
       "      <th>close</th>\n",
       "      <th>volume</th>\n",
       "    </tr>\n",
       "    <tr>\n",
       "      <th>formatted_date</th>\n",
       "      <th></th>\n",
       "      <th></th>\n",
       "      <th></th>\n",
       "      <th></th>\n",
       "      <th></th>\n",
       "    </tr>\n",
       "  </thead>\n",
       "  <tbody>\n",
       "    <tr>\n",
       "      <th>2022-08-23</th>\n",
       "      <td>1.32</td>\n",
       "      <td>1.19</td>\n",
       "      <td>1.19</td>\n",
       "      <td>1.29</td>\n",
       "      <td>45616300</td>\n",
       "    </tr>\n",
       "    <tr>\n",
       "      <th>2022-08-24</th>\n",
       "      <td>1.37</td>\n",
       "      <td>1.28</td>\n",
       "      <td>1.29</td>\n",
       "      <td>1.32</td>\n",
       "      <td>48894100</td>\n",
       "    </tr>\n",
       "    <tr>\n",
       "      <th>2022-08-25</th>\n",
       "      <td>1.40</td>\n",
       "      <td>1.33</td>\n",
       "      <td>1.35</td>\n",
       "      <td>1.36</td>\n",
       "      <td>41879900</td>\n",
       "    </tr>\n",
       "    <tr>\n",
       "      <th>2022-08-26</th>\n",
       "      <td>1.39</td>\n",
       "      <td>1.31</td>\n",
       "      <td>1.36</td>\n",
       "      <td>1.33</td>\n",
       "      <td>27783300</td>\n",
       "    </tr>\n",
       "    <tr>\n",
       "      <th>2022-08-29</th>\n",
       "      <td>1.37</td>\n",
       "      <td>1.31</td>\n",
       "      <td>1.33</td>\n",
       "      <td>1.31</td>\n",
       "      <td>30630400</td>\n",
       "    </tr>\n",
       "    <tr>\n",
       "      <th>2022-08-30</th>\n",
       "      <td>1.35</td>\n",
       "      <td>1.25</td>\n",
       "      <td>1.35</td>\n",
       "      <td>1.26</td>\n",
       "      <td>34570200</td>\n",
       "    </tr>\n",
       "    <tr>\n",
       "      <th>2022-08-31</th>\n",
       "      <td>1.32</td>\n",
       "      <td>1.25</td>\n",
       "      <td>1.28</td>\n",
       "      <td>1.31</td>\n",
       "      <td>42062100</td>\n",
       "    </tr>\n",
       "    <tr>\n",
       "      <th>2022-09-01</th>\n",
       "      <td>1.37</td>\n",
       "      <td>1.28</td>\n",
       "      <td>1.31</td>\n",
       "      <td>1.35</td>\n",
       "      <td>37673600</td>\n",
       "    </tr>\n",
       "    <tr>\n",
       "      <th>2022-09-02</th>\n",
       "      <td>1.38</td>\n",
       "      <td>1.31</td>\n",
       "      <td>1.36</td>\n",
       "      <td>1.32</td>\n",
       "      <td>40040400</td>\n",
       "    </tr>\n",
       "    <tr>\n",
       "      <th>2022-09-05</th>\n",
       "      <td>1.36</td>\n",
       "      <td>1.32</td>\n",
       "      <td>1.34</td>\n",
       "      <td>1.33</td>\n",
       "      <td>15976500</td>\n",
       "    </tr>\n",
       "  </tbody>\n",
       "</table>\n",
       "</div>"
      ],
      "text/plain": [
       "                high   low  open  close    volume\n",
       "formatted_date                                   \n",
       "2022-08-23      1.32  1.19  1.19   1.29  45616300\n",
       "2022-08-24      1.37  1.28  1.29   1.32  48894100\n",
       "2022-08-25      1.40  1.33  1.35   1.36  41879900\n",
       "2022-08-26      1.39  1.31  1.36   1.33  27783300\n",
       "2022-08-29      1.37  1.31  1.33   1.31  30630400\n",
       "2022-08-30      1.35  1.25  1.35   1.26  34570200\n",
       "2022-08-31      1.32  1.25  1.28   1.31  42062100\n",
       "2022-09-01      1.37  1.28  1.31   1.35  37673600\n",
       "2022-09-02      1.38  1.31  1.36   1.32  40040400\n",
       "2022-09-05      1.36  1.32  1.34   1.33  15976500"
      ]
     },
     "execution_count": 13,
     "metadata": {},
     "output_type": "execute_result"
    }
   ],
   "source": [
    "# Ajustando o DataFrame para focar nas colunas de interesse\n",
    "\n",
    "# Ler os dados do JSON\n",
    "cash3_raw = pd.DataFrame(data[ticker]['prices']).dropna()\n",
    "# Converter a data para o tipo correto datetime\n",
    "cash3_raw['formatted_date'] = pd.to_datetime(cash3_raw['formatted_date'])\n",
    "# Indica a data como o índice de cada linha\n",
    "cash3_raw = cash3_raw.set_index('formatted_date')\n",
    "cash3 = cash3_raw.iloc[:,1:-1]\n",
    "cash3.head(10)"
   ]
  },
  {
   "cell_type": "markdown",
   "metadata": {},
   "source": [
    "## Simulando Estratégia de Trade\n",
    "\n",
    "- Comprar quando estiver caindo 1% em relação ao início da simulação\n",
    "- Sair da posição quando estiver ganhando ou perdendo 2% do preço de entrada\n",
    "- Entrar novamente quando o preço cair 1% do último preço de venda"
   ]
  },
  {
   "cell_type": "code",
   "execution_count": 35,
   "metadata": {},
   "outputs": [
    {
     "name": "stdout",
     "output_type": "stream",
     "text": [
      "Carteira - CASH3 - Méliuz Aug/22 a Fev/23\n"
     ]
    },
    {
     "data": {
      "image/png": "[encoded data removed]",
      "text/plain": [
       "<Figure size 1000x500 with 1 Axes>"
      ]
     },
     "metadata": {},
     "output_type": "display_data"
    }
   ],
   "source": [
    "fig, ax = plt.subplots(1, 1, figsize=(10,5));\n",
    "\n",
    "cash = 0 # indica quanto dinheiro tem no bolso\n",
    "position = 0 # indica a posição atual. 0 é zerado\n",
    "result = [] # lista para montar o gráfico\n",
    "buy_price = 0\n",
    "sell_price = 0\n",
    "fim = 0\n",
    "first_price = cash3.close[0] #primeiro valor, início da simulação\n",
    "for price in cash3.close:   \n",
    "    # Critério de compra\n",
    "    if position == 0 and ((price <=  first_price * 0.99) or (price <= sell_price * 0.99)):\n",
    "        cash -= 1 * price # Fluxo de caixa negativo\n",
    "        position = 1 # Indica que está comprado em 1\n",
    "        buy_price = price       \n",
    "        \n",
    "    # Critério de Venda:\n",
    "    if position == 1 and ((price >= buy_price * 1.02) or (price < buy_price * 0.98)):        \n",
    "        cash += 1 * price\n",
    "        position = 0\n",
    "        sell_price = price \n",
    "\n",
    "    result.append(cash + 1 * price * position) # Mark To Market!    \n",
    "    # Fazendo o plot a cada iteração:\n",
    "    ax.plot(result, color='blue')    \n",
    "    display.clear_output(wait=True)\n",
    "    display.display(fig)    \n",
    "   \n",
    "ax.plot(result, color='blue');\n",
    "display.clear_output(wait=True)\n",
    "print(\"Carteira - CASH3 - Méliuz Aug/22 a Fev/23\")"
   ]
  },
  {
   "cell_type": "code",
   "execution_count": 33,
   "metadata": {},
   "outputs": [
    {
     "data": {
      "text/plain": [
       "formatted_date\n",
       "2022-08-23    1.29\n",
       "2022-08-24    1.32\n",
       "2022-08-25    1.36\n",
       "2022-08-26    1.33\n",
       "2022-08-29    1.31\n",
       "Name: close, dtype: float64"
      ]
     },
     "execution_count": 33,
     "metadata": {},
     "output_type": "execute_result"
    }
   ],
   "source": [
    "cash3.close.head()"
   ]
  },
  {
   "cell_type": "code",
   "execution_count": 32,
   "metadata": {},
   "outputs": [
    {
     "name": "stdout",
     "output_type": "stream",
     "text": [
      "EOF\n"
     ]
    }
   ],
   "source": [
    "print(\"EOF\")"
   ]
  }
 ],
 "metadata": {
  "kernelspec": {
   "display_name": "Python 3 (ipykernel)",
   "language": "python",
   "name": "python3"
  },
  "language_info": {
   "codemirror_mode": {
    "name": "ipython",
    "version": 3
   },
   "file_extension": ".py",
   "mimetype": "text/x-python",
   "name": "python",
   "nbconvert_exporter": "python",
   "pygments_lexer": "ipython3",
   "version": "3.7.16"
  }
 },
 "nbformat": 4,
 "nbformat_minor": 2
}
