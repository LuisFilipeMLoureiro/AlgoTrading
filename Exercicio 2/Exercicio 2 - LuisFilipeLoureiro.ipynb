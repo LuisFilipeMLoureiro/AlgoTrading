{
 "cells": [
  {
   "cell_type": "markdown",
   "id": "b26bbf9f",
   "metadata": {},
   "source": [
    "# AlgoTrading\n",
    "\n",
    "#### Exercício 2\n",
    "\n",
    "1. Utilizar os dados de PETR3 intradia no Blackboard\n",
    "2. Usar o modelo de simulação acima usando a biblioteca backtesting\n",
    "3. Adaptar a estratégia Martingale:\n",
    "4. Diminuir a posição para 1 quando o preço for 3% acima do preço médio\n",
    "5. Quando fizer o stop gain, estabeleça o novo preço médio como o preço de venda\n",
    "6. Se o preço cair, deixe a estratégia agir, dobrando a posição\n",
    "7. Interprete o resultado\n",
    "\n",
    "\n",
    "\n",
    "\n",
    "\n"
   ]
  },
  {
   "cell_type": "code",
   "execution_count": 1,
   "id": "4e1edfcf",
   "metadata": {},
   "outputs": [],
   "source": [
    "%matplotlib inline\n",
    "\n",
    "import numpy as np\n",
    "import pandas as pd\n",
    "import matplotlib.pyplot as plt\n",
    "import time\n",
    "import datetime\n",
    "import random\n",
    "\n",
    "from backtesting import evaluateHist, evaluateIntr, Strategy, Order"
   ]
  },
  {
   "cell_type": "code",
   "execution_count": 21,
   "id": "86b4346a",
   "metadata": {},
   "outputs": [
    {
     "name": "stdout",
     "output_type": "stream",
     "text": [
      "Number of trades: 1\n",
      "Gross P&L: 1.56\n",
      "Gross Average Return: 1.78%\n",
      "Tax: 0.04\n",
      "Fee: 0.00\n",
      "Net P&L: 1.52\n",
      "Hitting ratio: 100.00%\n",
      "Max Trade P&L: 1.56\n",
      "Min Trade P&L: 1.56\n",
      "\n"
     ]
    }
   ],
   "source": [
    "class Martingale(Strategy):\n",
    "\n",
    "    def __init__(self):\n",
    "        self.trades = []\n",
    "        self.size = 0\n",
    "        self.average = 0\n",
    "\n",
    "    def receive(self, event):\n",
    "\n",
    "        price = event.price[3] # Captura o preço atual vindo do evento\n",
    "\n",
    "        if self.size == 0: # Se está zerado\n",
    "            self.submit(self._id, Order(event.instrument, Order.B, 1, 0))\n",
    "            self.size = 1\n",
    "            self.average = price\n",
    "            #print(\"{0} {1} {2}\".format(price, self.average, self.size))\n",
    "            \n",
    "        elif (price/self.average - 1) >= 0.03: # Se está subindo 0.3% do preço médio\n",
    "            self.submit(self._id, Order(event.instrument, Order.S, self.size-1, 0))\n",
    "            self.size = 1\n",
    "            self.average = price\n",
    "            \n",
    "\n",
    "        elif (price/self.average - 1) <= -0.005: # Se cair 0.5%, dobra\n",
    "            \n",
    "            # dobra a posição\n",
    "            self.submit(self._id, Order(event.instrument,  Order.B, self.size, 0))\n",
    "            self.size *= 2\n",
    "            # novo médio\n",
    "            self.average += price\n",
    "            self.average /= 2\n",
    "            #print(\"Price:{0} Average:{1} Position Quantity:{2}\".format(price, self.average, self.size))\n",
    "    \n",
    "print(evaluateIntr(Martingale(), {'PETR4': 'PETR4-2012-04-05.csv'}))"
   ]
  },
  {
   "cell_type": "markdown",
   "id": "a78f7288",
   "metadata": {},
   "source": [
    "#### Sobre o Resultado:"
   ]
  },
  {
   "cell_type": "markdown",
   "id": "91f269e0",
   "metadata": {},
   "source": [
    "A o pipeline da estratégia é baseado em:\n",
    "\n",
    "1. Comprar o instrumento no início do dia, independente do preço\n",
    "2. Caso o valor do instrumento suba 3% em relação aquele comprado, vende\n",
    "3. Caso o valor caia 0.5% é dobrado a posição\n",
    "\n",
    "\n",
    "A estratégia sempre vai executar 1 trade ao dia. Isso ocorre, pois a posição nunca é zerada (ela é no mínimo 1) então não é considerado um trade ao final do dia. \n",
    "\n",
    "Testanto os valores para o instrumento PETR4 nos dias 3, 4 e 5 de março de 2012, observa-se uma grande variação. No dia 3, o hitting ratio é de 0%, com um lucro líquido de -20.75 reais. O mesmo ocorre para o dia 4, com um prejuízo de 6.26 reais. Já no dia 5 observa-se um ritting ratio de 100% e um lucro líquido de modestos 1.52 Reais.\n",
    "\n",
    "Dessa maneira, a análise com dados intra-dia da estratégia mostra sua inscosistência, com uma ampla variação da sua taxa de acerto."
   ]
  },
  {
   "cell_type": "code",
   "execution_count": null,
   "id": "9132f4a9",
   "metadata": {},
   "outputs": [],
   "source": []
  }
 ],
 "metadata": {
  "kernelspec": {
   "display_name": "Python 3 (ipykernel)",
   "language": "python",
   "name": "python3"
  },
  "language_info": {
   "codemirror_mode": {
    "name": "ipython",
    "version": 3
   },
   "file_extension": ".py",
   "mimetype": "text/x-python",
   "name": "python",
   "nbconvert_exporter": "python",
   "pygments_lexer": "ipython3",
   "version": "3.7.16"
  }
 },
 "nbformat": 4,
 "nbformat_minor": 5
}
